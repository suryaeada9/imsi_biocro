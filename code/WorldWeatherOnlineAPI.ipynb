{
 "cells": [
  {
   "cell_type": "code",
   "execution_count": 7,
   "metadata": {
    "scrolled": true
   },
   "outputs": [
    {
     "name": "stdout",
     "output_type": "stream",
     "text": [
      "Collecting wwo-hist\n",
      "  Downloading wwo_hist-0.0.7-py3-none-any.whl (4.6 kB)\n",
      "Installing collected packages: wwo-hist\n",
      "Successfully installed wwo-hist-0.0.7\n"
     ]
    }
   ],
   "source": [
    "!pip install wwo-hist"
   ]
  },
  {
   "cell_type": "code",
   "execution_count": 1,
   "metadata": {},
   "outputs": [],
   "source": [
    "from wwo_hist import retrieve_hist_data"
   ]
  },
  {
   "cell_type": "code",
   "execution_count": 6,
   "metadata": {},
   "outputs": [
    {
     "name": "stdout",
     "output_type": "stream",
     "text": [
      "\n",
      "\n",
      "Retrieving weather data for 55,37\n",
      "\n",
      "\n",
      "Currently retrieving data for 55,37: from 2014-02-06 to 2014-02-28\n",
      "Time elapsed (hh:mm:ss.ms) 0:00:02.995701\n",
      "Currently retrieving data for 55,37: from 2014-03-01 to 2014-03-31\n",
      "Time elapsed (hh:mm:ss.ms) 0:00:06.890144\n",
      "Currently retrieving data for 55,37: from 2014-04-01 to 2014-04-30\n",
      "Time elapsed (hh:mm:ss.ms) 0:00:10.444289\n",
      "Currently retrieving data for 55,37: from 2014-05-01 to 2014-05-31\n",
      "Time elapsed (hh:mm:ss.ms) 0:00:13.947688\n",
      "Currently retrieving data for 55,37: from 2014-06-01 to 2014-06-30\n",
      "Time elapsed (hh:mm:ss.ms) 0:00:17.591413\n",
      "Currently retrieving data for 55,37: from 2014-07-01 to 2014-07-31\n",
      "Time elapsed (hh:mm:ss.ms) 0:00:21.602154\n",
      "Currently retrieving data for 55,37: from 2014-08-01 to 2014-08-31\n",
      "Time elapsed (hh:mm:ss.ms) 0:00:26.336660\n",
      "Currently retrieving data for 55,37: from 2014-09-01 to 2014-09-30\n",
      "Time elapsed (hh:mm:ss.ms) 0:00:30.961409\n",
      "Currently retrieving data for 55,37: from 2014-10-01 to 2014-10-31\n",
      "Time elapsed (hh:mm:ss.ms) 0:00:34.837139\n",
      "Currently retrieving data for 55,37: from 2014-11-01 to 2014-11-30\n",
      "Time elapsed (hh:mm:ss.ms) 0:00:38.515159\n",
      "Currently retrieving data for 55,37: from 2014-12-01 to 2014-12-31\n",
      "Time elapsed (hh:mm:ss.ms) 0:00:42.428922\n",
      "Currently retrieving data for 55,37: from 2015-01-01 to 2015-01-31\n",
      "Time elapsed (hh:mm:ss.ms) 0:00:46.081144\n",
      "Currently retrieving data for 55,37: from 2015-02-01 to 2015-02-28\n",
      "Time elapsed (hh:mm:ss.ms) 0:00:49.555331\n",
      "Currently retrieving data for 55,37: from 2015-03-01 to 2015-03-31\n",
      "Time elapsed (hh:mm:ss.ms) 0:00:53.571940\n",
      "Currently retrieving data for 55,37: from 2015-04-01 to 2015-04-30\n",
      "Time elapsed (hh:mm:ss.ms) 0:00:57.406422\n",
      "Currently retrieving data for 55,37: from 2015-05-01 to 2015-05-01\n",
      "Time elapsed (hh:mm:ss.ms) 0:00:58.012828\n",
      "\n",
      "\n",
      "export 55,37 completed!\n",
      "\n",
      "\n"
     ]
    }
   ],
   "source": [
    "frequency=1\n",
    "start_date = '6-FEB-2014'\n",
    "end_date = '1-MAY-2015'\n",
    "api_key = 'c153d752fc0b4a3ba48181530212306'\n",
    "location_list = ['55,37']\n",
    "\n",
    "hist_weather_data = retrieve_hist_data(api_key,\n",
    "                                location_list,\n",
    "                                start_date,\n",
    "                                end_date,\n",
    "                                frequency,\n",
    "                                location_label = False,\n",
    "                                export_csv = True,\n",
    "                                store_df = True)"
   ]
  },
  {
   "cell_type": "code",
   "execution_count": 1,
   "metadata": {},
   "outputs": [],
   "source": [
    "import pandas as pd\n",
    "import numpy as np\n",
    "import sys, os\n",
    "from IPython.display import display"
   ]
  },
  {
   "cell_type": "code",
   "execution_count": 4,
   "metadata": {},
   "outputs": [
    {
     "name": "stdout",
     "output_type": "stream",
     "text": [
      "{\"inputs\":{\"body\":{\"wkt\":\"POINT(40.063377450813086, -88.2057459957978)\",\"attributes\":\"alpha,aod,ghi,dni,dhi,air_temperature,relative_humidity,wind_speed\",\"names\":\"2018\",\"utc\":\"false\",\"leap_day\":\"false\",\"interval\":\"60\",\"email\":\"starkledbetter@gmail.com\"},\"params\":{},\"query\":{}},\"metadata\":{\"version\":\"2.0.0\"},\"status\":400,\"errors\":[\"The optional 'attributes' parameter must contain a list of comma separated attributes. Values may include air_temperature, clearsky_dhi, clearsky_dni, clearsky_ghi, cloud_type, dew_point, dhi, dni, fill_flag, ghi, ozone, relative_humidity, solar_zenith_angle, surface_albedo, surface_pressure, total_precipitable_water, wind_direction, wind_speed\",\"The required 'names' or 'years' parameter must contain a list of comma separated numbers with values between 2011 and 2015\"]}\n"
     ]
    }
   ],
   "source": [
    "import requests\n",
    "\n",
    "url = \"https://developer.nrel.gov/api/nsrdb/v2/solar/himawari7-download.json?api_key=eyyAmNzmLMs0e2K2WgL9ci1MEIBR391jXPMXgZ5s\"\n",
    "\n",
    "payload = \"wkt=POINT(40.063377450813086, -88.2057459957978)&attributes=alpha,aod,ghi,dni,dhi,air_temperature,relative_humidity,wind_speed&names=2018&utc=false&leap_day=false&interval=60&email=starkledbetter@gmail.com\"\n",
    "\n",
    "headers = {\n",
    "    'content-type': \"application/x-www-form-urlencoded\",\n",
    "    'cache-control': \"no-cache\"\n",
    "}\n",
    "\n",
    "response = requests.request(\"POST\", url, data=payload, headers=headers)\n",
    "\n",
    "print(response.text)"
   ]
  },
  {
   "cell_type": "code",
   "execution_count": null,
   "metadata": {},
   "outputs": [],
   "source": []
  }
 ],
 "metadata": {
  "kernelspec": {
   "display_name": "Python 3",
   "language": "python",
   "name": "python3"
  },
  "language_info": {
   "codemirror_mode": {
    "name": "ipython",
    "version": 3
   },
   "file_extension": ".py",
   "mimetype": "text/x-python",
   "name": "python",
   "nbconvert_exporter": "python",
   "pygments_lexer": "ipython3",
   "version": "3.8.5"
  }
 },
 "nbformat": 4,
 "nbformat_minor": 2
}
