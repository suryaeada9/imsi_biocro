{
 "cells": [
  {
   "cell_type": "code",
   "execution_count": 7,
   "metadata": {
    "scrolled": true
   },
   "outputs": [
    {
     "name": "stdout",
     "output_type": "stream",
     "text": [
      "Collecting wwo-hist\n",
      "  Downloading wwo_hist-0.0.7-py3-none-any.whl (4.6 kB)\n",
      "Installing collected packages: wwo-hist\n",
      "Successfully installed wwo-hist-0.0.7\n"
     ]
    }
   ],
   "source": [
    "#Install to interact with WWO API\n",
    "!pip install wwo-hist"
   ]
  },
  {
   "cell_type": "code",
   "execution_count": 1,
   "metadata": {},
   "outputs": [],
   "source": [
    "from wwo_hist import retrieve_hist_data"
   ]
  },
  {
   "cell_type": "code",
   "execution_count": 3,
   "metadata": {},
   "outputs": [
    {
     "name": "stdout",
     "output_type": "stream",
     "text": [
      "\n",
      "\n",
      "Retrieving weather data for 40.063377450813086,-88.2057459957978\n",
      "\n",
      "\n",
      "Currently retrieving data for 40.063377450813086,-88.2057459957978: from 2018-01-01 to 2018-01-31\n",
      "Time elapsed (hh:mm:ss.ms) 0:00:04.715903\n",
      "Currently retrieving data for 40.063377450813086,-88.2057459957978: from 2018-02-01 to 2018-02-28\n",
      "Time elapsed (hh:mm:ss.ms) 0:00:08.483838\n",
      "Currently retrieving data for 40.063377450813086,-88.2057459957978: from 2018-03-01 to 2018-03-31\n",
      "Time elapsed (hh:mm:ss.ms) 0:00:12.202308\n",
      "Currently retrieving data for 40.063377450813086,-88.2057459957978: from 2018-04-01 to 2018-04-30\n",
      "Time elapsed (hh:mm:ss.ms) 0:00:15.804643\n",
      "Currently retrieving data for 40.063377450813086,-88.2057459957978: from 2018-05-01 to 2018-05-31\n",
      "Time elapsed (hh:mm:ss.ms) 0:00:21.310712\n",
      "Currently retrieving data for 40.063377450813086,-88.2057459957978: from 2018-06-01 to 2018-06-30\n",
      "Time elapsed (hh:mm:ss.ms) 0:00:24.989339\n",
      "Currently retrieving data for 40.063377450813086,-88.2057459957978: from 2018-07-01 to 2018-07-31\n",
      "Time elapsed (hh:mm:ss.ms) 0:00:28.610911\n",
      "Currently retrieving data for 40.063377450813086,-88.2057459957978: from 2018-08-01 to 2018-08-31\n",
      "Time elapsed (hh:mm:ss.ms) 0:00:32.552979\n",
      "Currently retrieving data for 40.063377450813086,-88.2057459957978: from 2018-09-01 to 2018-09-30\n",
      "Time elapsed (hh:mm:ss.ms) 0:00:37.109971\n",
      "Currently retrieving data for 40.063377450813086,-88.2057459957978: from 2018-10-01 to 2018-10-31\n",
      "Time elapsed (hh:mm:ss.ms) 0:00:40.962031\n",
      "Currently retrieving data for 40.063377450813086,-88.2057459957978: from 2018-11-01 to 2018-11-30\n",
      "Time elapsed (hh:mm:ss.ms) 0:00:44.570406\n",
      "Currently retrieving data for 40.063377450813086,-88.2057459957978: from 2018-12-01 to 2018-12-31\n",
      "Time elapsed (hh:mm:ss.ms) 0:00:48.298504\n",
      "Currently retrieving data for 40.063377450813086,-88.2057459957978: from 2019-01-01 to 2019-01-31\n",
      "Time elapsed (hh:mm:ss.ms) 0:00:52.138843\n",
      "Currently retrieving data for 40.063377450813086,-88.2057459957978: from 2019-02-01 to 2019-02-28\n",
      "Time elapsed (hh:mm:ss.ms) 0:00:57.676769\n",
      "Currently retrieving data for 40.063377450813086,-88.2057459957978: from 2019-03-01 to 2019-03-31\n",
      "Time elapsed (hh:mm:ss.ms) 0:01:01.539711\n",
      "Currently retrieving data for 40.063377450813086,-88.2057459957978: from 2019-04-01 to 2019-04-30\n",
      "Time elapsed (hh:mm:ss.ms) 0:01:05.507522\n",
      "Currently retrieving data for 40.063377450813086,-88.2057459957978: from 2019-05-01 to 2019-05-31\n",
      "Time elapsed (hh:mm:ss.ms) 0:01:09.523182\n",
      "Currently retrieving data for 40.063377450813086,-88.2057459957978: from 2019-06-01 to 2019-06-30\n",
      "Time elapsed (hh:mm:ss.ms) 0:01:13.339387\n",
      "Currently retrieving data for 40.063377450813086,-88.2057459957978: from 2019-07-01 to 2019-07-31\n",
      "Time elapsed (hh:mm:ss.ms) 0:01:17.469349\n",
      "Currently retrieving data for 40.063377450813086,-88.2057459957978: from 2019-08-01 to 2019-08-31\n",
      "Time elapsed (hh:mm:ss.ms) 0:01:21.393001\n",
      "Currently retrieving data for 40.063377450813086,-88.2057459957978: from 2019-09-01 to 2019-09-30\n",
      "Time elapsed (hh:mm:ss.ms) 0:01:24.982004\n",
      "Currently retrieving data for 40.063377450813086,-88.2057459957978: from 2019-10-01 to 2019-10-31\n",
      "Time elapsed (hh:mm:ss.ms) 0:01:28.494373\n",
      "Currently retrieving data for 40.063377450813086,-88.2057459957978: from 2019-11-01 to 2019-11-30\n",
      "Time elapsed (hh:mm:ss.ms) 0:01:32.152439\n",
      "Currently retrieving data for 40.063377450813086,-88.2057459957978: from 2019-12-01 to 2019-12-31\n",
      "Time elapsed (hh:mm:ss.ms) 0:01:36.043606\n",
      "\n",
      "\n",
      "export 40.063377450813086,-88.2057459957978 completed!\n",
      "\n",
      "\n"
     ]
    }
   ],
   "source": [
    "frequency=1 #1 hour intervals for BioCro\n",
    "start_date = '1-JAN-2018'\n",
    "end_date = '31-DEC-2019'\n",
    "api_key = 'c153d752fc0b4a3ba48181530212306'\n",
    "location_list = ['40.063377450813086,-88.2057459957978']\n",
    "\n",
    "hist_weather_data = retrieve_hist_data(api_key,\n",
    "                                location_list,\n",
    "                                start_date,\n",
    "                                end_date,\n",
    "                                frequency,\n",
    "                                location_label = False,\n",
    "                                export_csv = True,\n",
    "                                store_df = True)"
   ]
  },
  {
   "cell_type": "code",
   "execution_count": null,
   "metadata": {},
   "outputs": [],
   "source": []
  }
 ],
 "metadata": {
  "kernelspec": {
   "display_name": "Python 3",
   "language": "python",
   "name": "python3"
  },
  "language_info": {
   "codemirror_mode": {
    "name": "ipython",
    "version": 3
   },
   "file_extension": ".py",
   "mimetype": "text/x-python",
   "name": "python",
   "nbconvert_exporter": "python",
   "pygments_lexer": "ipython3",
   "version": "3.8.5"
  }
 },
 "nbformat": 4,
 "nbformat_minor": 2
}
